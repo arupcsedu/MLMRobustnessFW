{
  "nbformat": 4,
  "nbformat_minor": 0,
  "metadata": {
    "colab": {
      "name": "Atttacks_on_ML_Model.ipynb",
      "provenance": [],
      "collapsed_sections": [
        "Gedu5npnquyP"
      ]
    },
    "kernelspec": {
      "name": "python3",
      "display_name": "Python 3"
    },
    "language_info": {
      "name": "python"
    }
  },
  "cells": [
    {
      "cell_type": "markdown",
      "source": [
        "```\n",
        "Date: 4/10/2022\n",
        "Author: Arup Sarker\n",
        "Author Email: djy8hg@virginia.edu\n",
        "```\n",
        "## Install dependencies"
      ],
      "metadata": {
        "id": "8qEZEC1KqI9J"
      }
    },
    {
      "cell_type": "code",
      "execution_count": null,
      "metadata": {
        "colab": {
          "base_uri": "https://localhost:8080/"
        },
        "id": "m51b16j0qAAQ",
        "outputId": "87493357-26c2-4485-adea-ea82386c2f46"
      },
      "outputs": [
        {
          "output_type": "stream",
          "name": "stdout",
          "text": [
            "Collecting pybind11\n",
            "  Downloading pybind11-2.9.2-py2.py3-none-any.whl (213 kB)\n",
            "\u001b[?25l\r\u001b[K     |█▌                              | 10 kB 20.8 MB/s eta 0:00:01\r\u001b[K     |███                             | 20 kB 13.4 MB/s eta 0:00:01\r\u001b[K     |████▋                           | 30 kB 7.4 MB/s eta 0:00:01\r\u001b[K     |██████▏                         | 40 kB 6.7 MB/s eta 0:00:01\r\u001b[K     |███████▊                        | 51 kB 5.3 MB/s eta 0:00:01\r\u001b[K     |█████████▏                      | 61 kB 6.1 MB/s eta 0:00:01\r\u001b[K     |██████████▊                     | 71 kB 6.5 MB/s eta 0:00:01\r\u001b[K     |████████████▎                   | 81 kB 6.2 MB/s eta 0:00:01\r\u001b[K     |█████████████▉                  | 92 kB 6.9 MB/s eta 0:00:01\r\u001b[K     |███████████████▍                | 102 kB 7.3 MB/s eta 0:00:01\r\u001b[K     |████████████████▉               | 112 kB 7.3 MB/s eta 0:00:01\r\u001b[K     |██████████████████▍             | 122 kB 7.3 MB/s eta 0:00:01\r\u001b[K     |████████████████████            | 133 kB 7.3 MB/s eta 0:00:01\r\u001b[K     |█████████████████████▌          | 143 kB 7.3 MB/s eta 0:00:01\r\u001b[K     |███████████████████████         | 153 kB 7.3 MB/s eta 0:00:01\r\u001b[K     |████████████████████████▌       | 163 kB 7.3 MB/s eta 0:00:01\r\u001b[K     |██████████████████████████      | 174 kB 7.3 MB/s eta 0:00:01\r\u001b[K     |███████████████████████████▋    | 184 kB 7.3 MB/s eta 0:00:01\r\u001b[K     |█████████████████████████████▏  | 194 kB 7.3 MB/s eta 0:00:01\r\u001b[K     |██████████████████████████████▊ | 204 kB 7.3 MB/s eta 0:00:01\r\u001b[K     |████████████████████████████████| 213 kB 7.3 MB/s \n",
            "\u001b[?25hInstalling collected packages: pybind11\n",
            "Successfully installed pybind11-2.9.2\n"
          ]
        }
      ],
      "source": [
        "pip install pybind11\n"
      ]
    },
    {
      "cell_type": "code",
      "source": [
        "pip install git+https://github.com/Koukyosyumei/AIJack"
      ],
      "metadata": {
        "colab": {
          "base_uri": "https://localhost:8080/"
        },
        "id": "FAvUrtrCqoWh",
        "outputId": "e0f1bed9-90b5-499d-9236-1946c8600651"
      },
      "execution_count": null,
      "outputs": [
        {
          "output_type": "stream",
          "name": "stdout",
          "text": [
            "Collecting git+https://github.com/Koukyosyumei/AIJack\n",
            "  Cloning https://github.com/Koukyosyumei/AIJack to /tmp/pip-req-build-4xdnmghq\n",
            "  Running command git clone -q https://github.com/Koukyosyumei/AIJack /tmp/pip-req-build-4xdnmghq\n",
            "Requirement already satisfied: numpy in /usr/local/lib/python3.7/dist-packages (from aijack==0.0.0) (1.21.6)\n",
            "Requirement already satisfied: tqdm in /usr/local/lib/python3.7/dist-packages (from aijack==0.0.0) (4.64.0)\n",
            "Requirement already satisfied: sklearn in /usr/local/lib/python3.7/dist-packages (from aijack==0.0.0) (0.0)\n",
            "Requirement already satisfied: torch in /usr/local/lib/python3.7/dist-packages (from aijack==0.0.0) (1.11.0+cu113)\n",
            "Requirement already satisfied: torchvision in /usr/local/lib/python3.7/dist-packages (from aijack==0.0.0) (0.12.0+cu113)\n",
            "Requirement already satisfied: pybind11 in /usr/local/lib/python3.7/dist-packages (from aijack==0.0.0) (2.9.2)\n",
            "Requirement already satisfied: matplotlib in /usr/local/lib/python3.7/dist-packages (from aijack==0.0.0) (3.2.2)\n",
            "Requirement already satisfied: cycler>=0.10 in /usr/local/lib/python3.7/dist-packages (from matplotlib->aijack==0.0.0) (0.11.0)\n",
            "Requirement already satisfied: pyparsing!=2.0.4,!=2.1.2,!=2.1.6,>=2.0.1 in /usr/local/lib/python3.7/dist-packages (from matplotlib->aijack==0.0.0) (3.0.8)\n",
            "Requirement already satisfied: python-dateutil>=2.1 in /usr/local/lib/python3.7/dist-packages (from matplotlib->aijack==0.0.0) (2.8.2)\n",
            "Requirement already satisfied: kiwisolver>=1.0.1 in /usr/local/lib/python3.7/dist-packages (from matplotlib->aijack==0.0.0) (1.4.2)\n",
            "Requirement already satisfied: typing-extensions in /usr/local/lib/python3.7/dist-packages (from kiwisolver>=1.0.1->matplotlib->aijack==0.0.0) (4.2.0)\n",
            "Requirement already satisfied: six>=1.5 in /usr/local/lib/python3.7/dist-packages (from python-dateutil>=2.1->matplotlib->aijack==0.0.0) (1.15.0)\n",
            "Requirement already satisfied: scikit-learn in /usr/local/lib/python3.7/dist-packages (from sklearn->aijack==0.0.0) (1.0.2)\n",
            "Requirement already satisfied: joblib>=0.11 in /usr/local/lib/python3.7/dist-packages (from scikit-learn->sklearn->aijack==0.0.0) (1.1.0)\n",
            "Requirement already satisfied: threadpoolctl>=2.0.0 in /usr/local/lib/python3.7/dist-packages (from scikit-learn->sklearn->aijack==0.0.0) (3.1.0)\n",
            "Requirement already satisfied: scipy>=1.1.0 in /usr/local/lib/python3.7/dist-packages (from scikit-learn->sklearn->aijack==0.0.0) (1.4.1)\n",
            "Requirement already satisfied: requests in /usr/local/lib/python3.7/dist-packages (from torchvision->aijack==0.0.0) (2.23.0)\n",
            "Requirement already satisfied: pillow!=8.3.*,>=5.3.0 in /usr/local/lib/python3.7/dist-packages (from torchvision->aijack==0.0.0) (7.1.2)\n",
            "Requirement already satisfied: chardet<4,>=3.0.2 in /usr/local/lib/python3.7/dist-packages (from requests->torchvision->aijack==0.0.0) (3.0.4)\n",
            "Requirement already satisfied: urllib3!=1.25.0,!=1.25.1,<1.26,>=1.21.1 in /usr/local/lib/python3.7/dist-packages (from requests->torchvision->aijack==0.0.0) (1.24.3)\n",
            "Requirement already satisfied: idna<3,>=2.5 in /usr/local/lib/python3.7/dist-packages (from requests->torchvision->aijack==0.0.0) (2.10)\n",
            "Requirement already satisfied: certifi>=2017.4.17 in /usr/local/lib/python3.7/dist-packages (from requests->torchvision->aijack==0.0.0) (2021.10.8)\n",
            "Building wheels for collected packages: aijack\n",
            "  Building wheel for aijack (setup.py) ... \u001b[?25l\u001b[?25hdone\n",
            "  Created wheel for aijack: filename=aijack-0.0.0-cp37-cp37m-linux_x86_64.whl size=129104 sha256=c8c7229e58f24fe829c5047a910354c4424db2686b8420c84136113871828291\n",
            "  Stored in directory: /tmp/pip-ephem-wheel-cache-2qmw19o1/wheels/3b/84/9e/451bfe20785b1a7b8f8b1701a945a2bcafd4ba3d4b0c7f10ce\n",
            "Successfully built aijack\n",
            "Installing collected packages: aijack\n",
            "Successfully installed aijack-0.0.0\n"
          ]
        }
      ]
    },
    {
      "cell_type": "markdown",
      "source": [
        "## Data Poisoning Attacks\n"
      ],
      "metadata": {
        "id": "RP3RvXMesfpm"
      }
    },
    {
      "cell_type": "code",
      "source": [
        "import os\n",
        "import time\n",
        "import copy\n",
        "import random\n",
        "from tqdm import tqdm\n",
        "\n",
        "import numpy as np\n",
        "\n",
        "import sklearn\n",
        "from sklearn import datasets\n",
        "from sklearn import metrics\n",
        "from sklearn.svm import SVC\n",
        "from sklearn.model_selection import train_test_split\n",
        "\n",
        "import matplotlib.pyplot as plt\n",
        "\n",
        "from aijack.attack import Poison_attack_sklearn"
      ],
      "metadata": {
        "id": "sKuu86jHsePw"
      },
      "execution_count": null,
      "outputs": []
    },
    {
      "cell_type": "code",
      "source": [
        "mnist = datasets.fetch_openml(\"mnist_784\", version=1, data_home=\".\", return_X_y=True)\n",
        "imagedata, labeldata = mnist[0].values, mnist[1].values\n",
        "\n",
        "index_3 = [i for i, x in enumerate(labeldata) if x == \"3\"]\n",
        "index_7 = [i for i, x in enumerate(labeldata) if x == \"7\"]\n",
        "image_data_3_7 = imagedata[index_3 + index_7]\n",
        "label_data_3_7 = labeldata[index_3 + index_7]\n",
        "\n",
        "(\n",
        "    imagedata_training,\n",
        "    imagedata_validation,\n",
        "    labeldata_training,\n",
        "    labeldata_validation,\n",
        ") = train_test_split(image_data_3_7, label_data_3_7, test_size=0.2, shuffle=True)\n",
        "\n",
        "imagedata_training = imagedata_training / 255.0\n",
        "imagedata_validation = imagedata_validation / 255.0\n",
        "\n",
        "X_train = imagedata_training[:5000]\n",
        "y_train = labeldata_training[:5000]\n",
        "X_valid = imagedata_validation[:500]\n",
        "y_valid = labeldata_validation[:500]\n",
        "\n",
        "# X_train = np.load(\"data/X_train.npy\", allow_pickle=True)\n",
        "# y_train = np.load(\"data/y_train.npy\", allow_pickle=True)\n",
        "# X_valid = np.load(\"data/X_valid.npy\", allow_pickle=True)\n",
        "# y_valid = np.load(\"data/y_valid.npy\", allow_pickle=True)"
      ],
      "metadata": {
        "id": "woAAv09ksozQ"
      },
      "execution_count": null,
      "outputs": []
    },
    {
      "cell_type": "code",
      "source": [
        " #Train Target Model before attacks\n",
        "start = time.time()\n",
        "clf = SVC(kernel=\"linear\")\n",
        "clf.fit(X_train, y_train)\n",
        "elapsed_time = time.time() - start\n",
        "print(\"Arup: check accuracy before attack\")\n",
        "print(\"elapsed_time training:{0}\".format(elapsed_time) + \"[sec]\")\n",
        "\n",
        "start = time.time()\n",
        "predict = clf.predict(X_valid)\n",
        "elapsed_time = time.time() - start\n",
        "print(\"elapsed_time predict:{0}\".format(elapsed_time) + \"[sec]\")\n",
        "\n",
        "ac_score = metrics.accuracy_score(y_valid, predict)\n",
        "cl_report = metrics.classification_report(y_valid, predict)\n",
        "print(\"Accuracy score = \", ac_score)\n",
        "print(cl_report)"
      ],
      "metadata": {
        "colab": {
          "base_uri": "https://localhost:8080/"
        },
        "id": "ZRPhYIMis-TR",
        "outputId": "44e381dd-2914-4913-8093-06a19bd3cd9e"
      },
      "execution_count": null,
      "outputs": [
        {
          "output_type": "stream",
          "name": "stdout",
          "text": [
            "Arup: check accuracy before attack\n",
            "elapsed_time training:1.2963523864746094[sec]\n",
            "elapsed_time predict:0.03140068054199219[sec]\n",
            "Accuracy score =  0.986\n",
            "              precision    recall  f1-score   support\n",
            "\n",
            "           3       0.99      0.98      0.99       235\n",
            "           7       0.98      0.99      0.99       265\n",
            "\n",
            "    accuracy                           0.99       500\n",
            "   macro avg       0.99      0.99      0.99       500\n",
            "weighted avg       0.99      0.99      0.99       500\n",
            "\n"
          ]
        }
      ]
    },
    {
      "cell_type": "code",
      "source": [
        "# initial point\n",
        "initial_idx = 0\n",
        "xc = X_train[initial_idx, :]\n",
        "yc = y_train[initial_idx]\n",
        "\n",
        "plt.imshow(xc.reshape(28, 28), cmap=\"gray\")\n",
        "plt.title(f\"initial point : {yc}\")\n",
        "plt.savefig(\"original_seven.png\")\n",
        "plt.show()"
      ],
      "metadata": {
        "colab": {
          "base_uri": "https://localhost:8080/",
          "height": 281
        },
        "id": "uO-FqtXrtXpJ",
        "outputId": "2dfe9f79-e307-4cde-adec-97a816f91dd0"
      },
      "execution_count": null,
      "outputs": [
        {
          "output_type": "display_data",
          "data": {
            "text/plain": [
              "<Figure size 432x288 with 1 Axes>"
            ],
            "image/png": "[encoded data removed]"
          },
          "metadata": {
            "needs_background": "light"
          }
        }
      ]
    },
    {
      "cell_type": "code",
      "source": [
        "train_idx = random.sample(list(range(1, X_train.shape[0])), 100)\n",
        "X_train_ = copy.copy(X_train[train_idx, :])\n",
        "y_train_ = copy.copy(y_train[train_idx])\n",
        "\n",
        "y_train_ = np.where(y_train_ == \"7\", 1, -1)\n",
        "y_valid_ = np.where(y_valid == \"7\", 1, -1)"
      ],
      "metadata": {
        "id": "eQOzbjFetaen"
      },
      "execution_count": null,
      "outputs": []
    },
    {
      "cell_type": "code",
      "source": [
        "attacker = Poison_attack_sklearn(clf, X_train_, y_train_, t=0.5)\n",
        "\n",
        "xc_attacked, log = attacker.attack(xc, 1, X_valid, y_valid_, num_iterations=200)"
      ],
      "metadata": {
        "colab": {
          "base_uri": "https://localhost:8080/"
        },
        "id": "tSvyWOCmte6n",
        "outputId": "e6f71a80-cf40-47ea-e7f3-2febbdf2b220"
      },
      "execution_count": null,
      "outputs": [
        {
          "output_type": "stream",
          "name": "stderr",
          "text": [
            "100%|██████████| 200/200 [00:06<00:00, 33.00it/s]\n"
          ]
        }
      ]
    },
    {
      "cell_type": "code",
      "source": [
        "plt.plot(log)\n",
        "plt.title(\"poisoning attack against SVM\")\n",
        "plt.xlabel(\"num of iterations\")\n",
        "plt.ylabel(\"accuracy on validation data\")\n",
        "plt.savefig(\"poison_loss.png\")\n",
        "plt.show()"
      ],
      "metadata": {
        "colab": {
          "base_uri": "https://localhost:8080/",
          "height": 295
        },
        "id": "bXuAaY8XtmHK",
        "outputId": "ece9c64d-8285-46a2-e096-1cf6fba8bb63"
      },
      "execution_count": null,
      "outputs": [
        {
          "output_type": "display_data",
          "data": {
            "text/plain": [
              "<Figure size 432x288 with 1 Axes>"
            ],
            "image/png": "[encoded data removed]"
          },
          "metadata": {
            "needs_background": "light"
          }
        }
      ]
    },
    {
      "cell_type": "code",
      "source": [
        "plt.imshow(xc_attacked.reshape(28, 28), cmap=\"gray\")\n",
        "plt.title(\"After Attack\")\n",
        "plt.savefig(\"poison_example.png\")\n",
        "plt.show()"
      ],
      "metadata": {
        "colab": {
          "base_uri": "https://localhost:8080/",
          "height": 281
        },
        "id": "qQmmbRQ-trmP",
        "outputId": "08e263d7-ac54-40ee-81e9-40f592c53b84"
      },
      "execution_count": null,
      "outputs": [
        {
          "output_type": "display_data",
          "data": {
            "text/plain": [
              "<Figure size 432x288 with 1 Axes>"
            ],
            "image/png": "[encoded data removed]"
          },
          "metadata": {
            "needs_background": "light"
          }
        }
      ]
    },
    {
      "cell_type": "code",
      "source": [
        "clf = SVC(kernel=\"linear\", C=1)\n",
        "clf.fit(X_train_, y_train_)\n",
        "print(\"before attack: \", clf.score(X_valid, y_valid_))\n",
        "\n",
        "# add poinsoned data\n",
        "clf = SVC(kernel=\"linear\", C=1)\n",
        "clf.fit(\n",
        "    np.concatenate([X_train_, xc_attacked.reshape(1, -1)]),\n",
        "    np.concatenate([y_train_, [-1]]),\n",
        ")\n",
        "print(\"after attack: \", clf.score(X_valid, y_valid_))"
      ],
      "metadata": {
        "colab": {
          "base_uri": "https://localhost:8080/"
        },
        "id": "GEillSZ1tuBe",
        "outputId": "c69edcc2-1a36-4919-e4a5-cfabdd286f42"
      },
      "execution_count": null,
      "outputs": [
        {
          "output_type": "stream",
          "name": "stdout",
          "text": [
            "before attack:  0.96\n",
            "after attack:  0.842\n"
          ]
        }
      ]
    }
  ]
}